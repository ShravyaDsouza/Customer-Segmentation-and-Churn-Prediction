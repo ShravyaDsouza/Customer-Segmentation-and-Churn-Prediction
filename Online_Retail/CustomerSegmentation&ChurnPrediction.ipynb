{
 "cells": [
  {
   "cell_type": "markdown",
   "id": "2609058d-9368-431f-9ac9-195dba90f218",
   "metadata": {},
   "source": [
    "# **Customer Segmentation & Churn Prediction**"
   ]
  },
  {
   "cell_type": "markdown",
   "id": "191a0c62-ea75-4b56-b284-77915cbf2e6b",
   "metadata": {},
   "source": [
    "# 1. K-Means (Clustering)\n",
    "**Purpose**:  \n",
    "K-Means is a clustering algorithm used to group similar customers based on features like purchase history, frequency, and monetary value. It’s an unsupervised algorithm, meaning it does not require labeled data. K-Means groups customers into clusters based on similarities in the data.\n",
    "\n",
    "**Use Case for Customer Segmentation**:  \n",
    "K-Means is often used in customer segmentation based on features like **Recency, Frequency, and Monetary** value (RFM analysis). This helps identify distinct customer groups, such as:\n",
    "\n",
    "- **High-value customers**\n",
    "- **At-risk customers**\n",
    "- **Frequent purchasers**\n",
    "\n",
    "**When to Use**:  \n",
    "Use K-Means when you want to identify patterns or groups of customers from **unlabeled data**, such as clustering customers based on purchasing behavior without predefined categories.\n",
    "\n",
    "**Example Application of K-Means for Customer Segmentation**:\n",
    "- K-Means can automatically group customers into clusters based on their similarity in spending habits, frequency, and other features.\n",
    "- The number of clusters (k) is determined through methods like the **Elbow Method** or **Silhouette Scores**.\n",
    "\n",
    "---\n",
    "\n",
    "# 2. K-Nearest Neighbors (KNN, Classification)\n",
    "**Purpose**:  \n",
    "KNN is a **classification algorithm** that assigns a label to a customer based on the majority label of its nearest neighbors. It is supervised, meaning it requires labeled data for training. KNN uses distance metrics to classify new customers into pre-defined categories.\n",
    "\n",
    "**Use Case for Customer Segmentation**:  \n",
    "KNN is useful when you have labeled customer data and want to classify new customers based on their similarity to existing customers. For example, KNN can be used for:\n",
    "\n",
    "- Classifying new customers as **\"loyal,\"** **\"potential churn,\"** or **\"occasional\"** based on their similarity to previously labeled customers.\n",
    "\n",
    "**When to Use**:  \n",
    "KNN is best used when you already have **labeled customer data** and want to classify new customers or predict which segment they belong to based on their features."
   ]
  },
  {
   "cell_type": "markdown",
   "id": "985f4d40-e0bd-4240-b2c7-2165ebed6068",
   "metadata": {},
   "source": [
    "### Import Libraries"
   ]
  },
  {
   "cell_type": "code",
   "execution_count": null,
   "id": "6810ebdd-ac85-41a0-8138-ee938fd81732",
   "metadata": {},
   "outputs": [],
   "source": [
    "import pandas as pd\n",
    "import numpy as np\n",
    "from sklearn.preprocessing import StandardScaler\n",
    "from sklearn.neighbors import KNeighborsClassifier\n",
    "from sklearn.model_selection import train_test_split\n",
    "from sklearn.metrics import confusion_matrix, classification_report,accuracy_score\n",
    "import matplotlib.pyplot as plt\n",
    "import seaborn as sns\n",
    "from scipy.stats import norm\n",
    "from sklearn.cluster import KMeans\n",
    "from sklearn.metrics import silhouette_score\n",
    "from sklearn.decomposition import PCA"
   ]
  },
  {
   "cell_type": "markdown",
   "id": "55c178a0-a93f-4220-9ca9-09170081c716",
   "metadata": {},
   "source": [
    "### Load the Dataset"
   ]
  },
  {
   "cell_type": "code",
   "execution_count": null,
   "id": "b3c042c8-2581-4dd9-93b0-222cf37fbe4c",
   "metadata": {},
   "outputs": [],
   "source": [
    "file_path ='/Online_Retail/data/online_retail_II.xlsx'"
   ]
  },
  {
   "cell_type": "code",
   "execution_count": null,
   "id": "8f04c325-5ce2-4135-a960-97a86c8cf00c",
   "metadata": {},
   "outputs": [],
   "source": [
    "train_data = pd.read_excel(file_path, sheet_name='Year 2009-2010')\n",
    "test_data = pd.read_excel(file_path, sheet_name='Year 2010-2011')"
   ]
  },
  {
   "cell_type": "code",
   "execution_count": null,
   "id": "3649d2ff-9309-4abd-be1f-84b651e72b9c",
   "metadata": {},
   "outputs": [],
   "source": [
    "print(train_data.head())"
   ]
  },
  {
   "cell_type": "code",
   "execution_count": null,
   "id": "fe6b4326-ff0f-4878-b698-add9b8e5b279",
   "metadata": {},
   "outputs": [],
   "source": [
    "print(test_data.head())"
   ]
  },
  {
   "cell_type": "code",
   "execution_count": null,
   "id": "bb4386e0-1229-49f0-aa17-fa34ef735d84",
   "metadata": {},
   "outputs": [],
   "source": [
    "train_data.info()"
   ]
  },
  {
   "cell_type": "code",
   "execution_count": null,
   "id": "a33d21d5-1962-4698-961a-83d7f6be0b1c",
   "metadata": {},
   "outputs": [],
   "source": [
    "test_data.info()"
   ]
  },
  {
   "cell_type": "code",
   "execution_count": null,
   "id": "c6185746-6052-49aa-8ed4-acd943e6d473",
   "metadata": {},
   "outputs": [],
   "source": [
    "train_data = train_data.dropna(inplace=False)"
   ]
  },
  {
   "cell_type": "code",
   "execution_count": null,
   "id": "71d35eca-f7ba-4837-8e4f-aec7af5e0e95",
   "metadata": {},
   "outputs": [],
   "source": [
    "test_data = test_data.dropna(inplace=False)"
   ]
  },
  {
   "cell_type": "code",
   "execution_count": null,
   "id": "84bc4ada-8cdf-4c6b-9283-7def90b172a1",
   "metadata": {},
   "outputs": [],
   "source": [
    "# Check for missing values in the 'CustomerID' column\n",
    "print(train_data['Customer ID'].isnull().sum())\n",
    "\n",
    "# If there are missing values, you can either drop them or fill them based on your use case:\n",
    "#train_data = train_data.dropna(subset=['CustomerID']) "
   ]
  },
  {
   "cell_type": "code",
   "execution_count": null,
   "id": "f50dd8b7-d4bb-43c1-908a-76d535269948",
   "metadata": {},
   "outputs": [],
   "source": [
    "print(test_data['Customer ID'].isnull().sum())"
   ]
  },
  {
   "cell_type": "markdown",
   "id": "85e18912-7963-4149-82db-3387d7d0bc49",
   "metadata": {},
   "source": [
    "### Detecting Outliers"
   ]
  },
  {
   "cell_type": "code",
   "execution_count": null,
   "id": "d3157ee7-d464-452e-9015-a823f830daee",
   "metadata": {},
   "outputs": [],
   "source": [
    "import numpy as np\n",
    "import matplotlib.pyplot as plt\n",
    "from scipy.stats import norm\n",
    "\n",
    "# Function to plot the normal distribution with standard deviation lines\n",
    "def plot_normal_distribution_with_std(data, column_name, dataset_type):\n",
    "    plt.figure(figsize=(10, 6))\n",
    "    \n",
    "    # Calculate mean and standard deviation\n",
    "    mean = np.mean(data)\n",
    "    std_dev = np.std(data)\n",
    "    \n",
    "    # Generate the normal distribution curve\n",
    "    xmin, xmax = mean - 4*std_dev, mean + 4*std_dev  # Focus on ±4 standard deviations\n",
    "    x = np.linspace(xmin, xmax, 100)\n",
    "    p = norm.pdf(x, mean, std_dev)\n",
    "    \n",
    "    # Plot the normal distribution curve\n",
    "    plt.plot(x, p, 'k', linewidth=2, label='Normal Distribution')\n",
    "    \n",
    "    # Add vertical lines for ±1, ±2, and ±3 standard deviations\n",
    "    plt.axvline(mean, color='blue', linestyle='--', label='Mean')\n",
    "    plt.axvline(mean + std_dev, color='green', linestyle='--', label='±1 Standard Deviation')\n",
    "    plt.axvline(mean - std_dev, color='green', linestyle='--')\n",
    "    plt.axvline(mean + 2*std_dev, color='orange', linestyle='--', label='±2 Standard Deviations')\n",
    "    plt.axvline(mean - 2*std_dev, color='orange', linestyle='--')\n",
    "    plt.axvline(mean + 3*std_dev, color='red', linestyle='--', label='±3 Standard Deviations')\n",
    "    plt.axvline(mean - 3*std_dev, color='red', linestyle='--')\n",
    "\n",
    "    # Fill areas under the curve for ±1, ±2, and ±3 standard deviations\n",
    "    plt.fill_between(x, p, where=((x >= mean - std_dev) & (x <= mean + std_dev)), color='green', alpha=0.2)\n",
    "    plt.fill_between(x, p, where=((x >= mean - 2*std_dev) & (x <= mean + 2*std_dev)), color='orange', alpha=0.2)\n",
    "    plt.fill_between(x, p, where=((x >= mean - 3*std_dev) & (x <= mean + 3*std_dev)), color='red', alpha=0.2)\n",
    "    \n",
    "    # Add labels and title\n",
    "    plt.title(f'Normal Distribution for {column_name} ({dataset_type})')\n",
    "    plt.xlabel(column_name)\n",
    "    plt.ylabel('Density')\n",
    "    plt.legend(loc=\"best\")\n",
    "    \n",
    "    # Show the plot\n",
    "    plt.show()\n",
    "\n",
    "# Plot the distribution for 'Quantity' in train data\n",
    "plot_normal_distribution_with_std(train_data['Quantity'], 'Quantity', 'Train')\n",
    "\n",
    "# Plot the distribution for 'Quantity' in test data\n",
    "plot_normal_distribution_with_std(test_data['Quantity'], 'Quantity', 'Test')\n",
    "\n",
    "# Plot the distribution for 'Price' in train data\n",
    "plot_normal_distribution_with_std(train_data['Price'], 'Price', 'Train')\n",
    "\n",
    "# Plot the distribution for 'Price' in test data\n",
    "plot_normal_distribution_with_std(test_data['Price'], 'Price', 'Test')"
   ]
  },
  {
   "cell_type": "code",
   "execution_count": null,
   "id": "fa7223e7-21ff-4709-b819-41d7adc67676",
   "metadata": {},
   "outputs": [],
   "source": [
    "def detect_outlier(data):\n",
    "    outliers = []\n",
    "    threshold = 3  # Z-score threshold\n",
    "    mean = np.mean(data)  \n",
    "    std = np.std(data)  \n",
    "    \n",
    "    # Identify outliers based on Z-score\n",
    "    for y in data:\n",
    "        z_score = (y - mean) / std\n",
    "        if np.abs(z_score) > threshold:\n",
    "            outliers.append(y)\n",
    "    \n",
    "    return outliers\n",
    "\n",
    "# List of irrelevant columns to exclude from outlier detection\n",
    "exclude_columns = ['CustomerID']\n",
    "\n",
    "for dataset, name in zip([train_data, test_data], ['Train', 'Test']):\n",
    "    for item in dataset.select_dtypes(include=[np.number]).columns:\n",
    "        if item not in exclude_columns:\n",
    "            mean = np.mean(dataset[item])\n",
    "            print(f'Outliers in {item} ({name} data) will be replaced by the mean: {mean}')\n",
    "            \n",
    "            # Detect outliers\n",
    "            outliers = detect_outlier(dataset[item])\n",
    "            \n",
    "            # Replace outliers with the mean (you can choose inplace=True or False)\n",
    "            dataset[item].replace(outliers, mean, inplace=False)\n",
    "            \n",
    "            print(f'{len(outliers)} outliers found in {item} ({name} data)')"
   ]
  },
  {
   "cell_type": "code",
   "execution_count": null,
   "id": "5dddb085-18b3-4f14-aaab-3591fed2efc7",
   "metadata": {},
   "outputs": [],
   "source": [
    "# Detect outliers in the \"Quantity\" and \"Price\" columns\n",
    "quantity_outliers_train_data = detect_outlier(train_data['Quantity'])\n",
    "price_outliers_train_data = detect_outlier(train_data['Price'])"
   ]
  },
  {
   "cell_type": "code",
   "execution_count": null,
   "id": "48b172bf-715d-47f0-aa04-9db81a2ba397",
   "metadata": {},
   "outputs": [],
   "source": [
    "# Detect outliers in the \"Quantity\" and \"Price\" columns\n",
    "quantity_outliers_test_data = detect_outlier(test_data['Quantity'])\n",
    "price_outliers_test_data = detect_outlier(test_data['Price'])"
   ]
  },
  {
   "cell_type": "markdown",
   "id": "6c2a7d7b-6571-4816-87c7-8a9a1ec425c9",
   "metadata": {},
   "source": [
    "# RFM (Recency, Frequency, Monetary)\n",
    "**Purpose**:  \n",
    "RFM analysis is a customer segmentation technique used to evaluate and rank customers based on their purchasing behavior. It helps identify valuable customers by analyzing three key metrics:\n",
    "\n",
    "- **Recency**: How recently a customer made a purchase.\n",
    "- **Frequency**: How often a customer makes a purchase.\n",
    "- **Monetary**: How much money a customer spends.\n",
    "\n",
    "**Use Case for Customer Segmentation**:  \n",
    "RFM helps segment customers into different groups such as high-value customers, at-risk customers, and frequent purchasers. By evaluating these metrics, businesses can tailor marketing strategies to different customer segments.\n",
    "\n",
    "---\n",
    "\n",
    "# Churn Label\n",
    "**Purpose**:  \n",
    "The churn label indicates whether a customer has **stopped** doing business with a company. It’s a **binary label** typically represented as:\n",
    "\n",
    "- **Churn = 1**: The customer has churned (stopped purchasing).\n",
    "- **Churn = 0**: The customer has not churned (still an active customer).\n",
    "\n",
    "**Use Case for Customer Churn Prediction**:  \n",
    "By applying churn labels to customer data, businesses can use machine learning models like **KNN** to predict which customers are likely to churn. This allows companies to take proactive measures to retain these customers."
   ]
  },
  {
   "cell_type": "markdown",
   "id": "1e7963b3-398a-4318-a6d1-82f3483fd055",
   "metadata": {},
   "source": [
    "## RMF Calculation"
   ]
  },
  {
   "cell_type": "code",
   "execution_count": null,
   "id": "2fff00fe-8968-4e6b-b9e6-8ca94b69b0f5",
   "metadata": {},
   "outputs": [],
   "source": [
    "train_data['InvoiceDate'] = pd.to_datetime(train_data['InvoiceDate'])\n",
    "train_data['Diff'] = max(train_data['InvoiceDate']) - train_data['InvoiceDate']\n",
    "recency_train = train_data.groupby('Customer ID')['Diff'].min()\n",
    "recency_train = recency_train.dt.days\n",
    "recency_train = recency_train.reset_index()"
   ]
  },
  {
   "cell_type": "code",
   "execution_count": null,
   "id": "97dff754-5373-45c5-8254-78a9e0166e7c",
   "metadata": {},
   "outputs": [],
   "source": [
    "test_data['InvoiceDate'] = pd.to_datetime(test_data['InvoiceDate'])\n",
    "test_data['Diff'] = max(test_data['InvoiceDate']) - test_data['InvoiceDate']\n",
    "recency_test = test_data.groupby('Customer ID')['Diff'].min()\n",
    "recency_test = recency_test.dt.days\n",
    "recency_test = recency_test.reset_index()"
   ]
  },
  {
   "cell_type": "code",
   "execution_count": null,
   "id": "88907ba7-df64-4b31-88b8-e5cd956b2634",
   "metadata": {},
   "outputs": [],
   "source": [
    "train_data['Amount'] = train_data['Quantity'] * train_data['Price']\n",
    "monetary_train = train_data.groupby('Customer ID')['Amount'].sum()\n",
    "monetary_train = monetary_train.reset_index()\n",
    "monetary_train"
   ]
  },
  {
   "cell_type": "code",
   "execution_count": null,
   "id": "dc7ef56b-db49-4634-8880-fe89712e6f49",
   "metadata": {},
   "outputs": [],
   "source": [
    "test_data['Amount'] = test_data['Quantity'] * test_data['Price']\n",
    "monetary_test = test_data.groupby('Customer ID')['Amount'].sum()\n",
    "monetary_test = monetary_test.reset_index()\n",
    "monetary_test"
   ]
  },
  {
   "cell_type": "code",
   "execution_count": null,
   "id": "ca8b32db-da9e-4989-8f97-58c82f8a2b33",
   "metadata": {},
   "outputs": [],
   "source": [
    "frequency_train = train_data.groupby('Customer ID')['Invoice'].count()\n",
    "frequency_train = frequency_train.reset_index()\n",
    "frequency_train"
   ]
  },
  {
   "cell_type": "code",
   "execution_count": null,
   "id": "585243d7-7ff2-41b3-a0a2-34ec058e3b57",
   "metadata": {},
   "outputs": [],
   "source": [
    "frequency_test = test_data.groupby('Customer ID')['Invoice'].count()\n",
    "frequency_test = frequency_test.reset_index()\n",
    "frequency_test"
   ]
  },
  {
   "cell_type": "code",
   "execution_count": null,
   "id": "f768a850-3d83-4f3a-ae47-31abe7deedc7",
   "metadata": {},
   "outputs": [],
   "source": [
    "rfm_train = pd.merge(recency_train, frequency_train, on='Customer ID')\n",
    "rfm_train = pd.merge(rfm_train, monetary_train, on='Customer ID')\n",
    "rfm_train.columns = ['Customer ID', 'Recency', 'Frequency', 'Monetary']\n",
    "rfm_train"
   ]
  },
  {
   "cell_type": "code",
   "execution_count": null,
   "id": "7e531f38-e465-4679-b46a-77b13a5a96d2",
   "metadata": {},
   "outputs": [],
   "source": [
    "print(rfm_test.columns)"
   ]
  },
  {
   "cell_type": "code",
   "execution_count": null,
   "id": "60ec6a5b-d01e-46a0-a756-06d69bf077f2",
   "metadata": {},
   "outputs": [],
   "source": [
    "rfm_test = pd.merge(recency_test, frequency_test, on='Customer ID')\n",
    "rfm_test = pd.merge(rfm_test, monetary_test, on='Customer ID')\n",
    "rfm_test.columns = ['Customer ID', 'Recency', 'Frequency', 'Monetary']\n",
    "rfm_test"
   ]
  },
  {
   "cell_type": "code",
   "execution_count": null,
   "id": "663f6f04-e49a-453b-91e9-2a36a95fd5de",
   "metadata": {},
   "outputs": [],
   "source": [
    "rfm_scaled_train = rfm_train[['Recency', 'Frequency', 'Monetary']]\n",
    "rfm_scaled_train = StandardScaler().fit_transform(rfm_scaled_train)\n",
    "rfm_scaled_train = pd.DataFrame(rfm_scaled_train)\n",
    "rfm_scaled_train.columns = ['Recency', 'Frequency', 'Monetary']\n",
    "rfm_scaled_train"
   ]
  },
  {
   "cell_type": "code",
   "execution_count": null,
   "id": "a0c084d0-7887-4939-bd68-c70f522e68ca",
   "metadata": {},
   "outputs": [],
   "source": [
    "rfm_scaled_test = rfm_test[['Recency', 'Frequency', 'Monetary']]\n",
    "rfm_scaled_test = StandardScaler().fit_transform(rfm_scaled_test)\n",
    "rfm_scaled_test = pd.DataFrame(rfm_scaled_test)\n",
    "rfm_scaled_test.columns = ['Recency', 'Frequency', 'Monetary']\n",
    "rfm_scaled_test"
   ]
  },
  {
   "cell_type": "markdown",
   "id": "756cfa0a-bca4-491d-b514-7c10fcdb3303",
   "metadata": {},
   "source": [
    "### **K means**"
   ]
  },
  {
   "cell_type": "code",
   "execution_count": null,
   "id": "85fa7a43-bb1c-43a1-a153-21ccb183b7bc",
   "metadata": {},
   "outputs": [],
   "source": [
    "distortions = []\n",
    "range_n_clusters = range(1, 10)\n",
    "for num_cluster in range_n_clusters :\n",
    "    kmeans = KMeans(n_clusters=num_cluster)\n",
    "    kmeans.fit(rfm_scaled_train)\n",
    "    distortions.append(kmeans.inertia_)\n",
    "plt.figure(figsize=(16,8))\n",
    "plt.plot(range_n_clusters, distortions, 'bx-')\n",
    "plt.xlabel('k')\n",
    "plt.ylabel('Distortion')\n",
    "plt.title('The Elbow Method showing the optimal k for ')\n",
    "plt.show()"
   ]
  },
  {
   "cell_type": "code",
   "execution_count": null,
   "id": "b4299bd7-f3f6-4970-a810-019ddeb16abd",
   "metadata": {},
   "outputs": [],
   "source": [
    "distortions = []\n",
    "range_n_clusters = range(1, 10)\n",
    "for num_cluster in range_n_clusters :\n",
    "    kmeans = KMeans(n_clusters=num_cluster)\n",
    "    kmeans.fit(rfm_scaled_train)\n",
    "    distortions.append(kmeans.inertia_)\n",
    "plt.figure(figsize=(16,8))\n",
    "plt.plot(range_n_clusters, distortions, 'bx-')\n",
    "plt.xlabel('k')\n",
    "plt.ylabel('Distortion')\n",
    "plt.title('The Elbow Method showing the optimal k')\n",
    "plt.show()"
   ]
  },
  {
   "cell_type": "code",
   "execution_count": null,
   "id": "398faf24-68db-42df-bf57-aa95798a1eb3",
   "metadata": {},
   "outputs": [],
   "source": [
    "optimal_k = 3"
   ]
  },
  {
   "cell_type": "code",
   "execution_count": null,
   "id": "c3d7750d-5731-43e1-96fe-701c95457c01",
   "metadata": {},
   "outputs": [],
   "source": [
    "kmeans = KMeans(n_clusters=optimal_k)\n",
    "kmeans.fit(rfm_scaled_train)"
   ]
  },
  {
   "cell_type": "code",
   "execution_count": null,
   "id": "6923f11a-3f16-4a21-8fb4-8ef86285e4c9",
   "metadata": {},
   "outputs": [],
   "source": [
    "train_clusters = kmeans.predict(rfm_scaled_train)"
   ]
  },
  {
   "cell_type": "code",
   "execution_count": null,
   "id": "9f119cfc-42ca-4006-977f-24d076565fdf",
   "metadata": {},
   "outputs": [],
   "source": [
    "rfm_train['Cluster'] = train_clusters"
   ]
  },
  {
   "cell_type": "code",
   "execution_count": null,
   "id": "89c03643-00f3-453d-a5de-ba0383b06eed",
   "metadata": {},
   "outputs": [],
   "source": [
    "print(rfm_train.head(15))"
   ]
  },
  {
   "cell_type": "code",
   "execution_count": null,
   "id": "7e495a97-903a-4794-8f04-0fd94cdcebc7",
   "metadata": {},
   "outputs": [],
   "source": [
    "test_clusters = kmeans.predict(rfm_scaled_test)"
   ]
  },
  {
   "cell_type": "code",
   "execution_count": null,
   "id": "69491e12-b344-4ec6-9c14-a5e9c1cfdc91",
   "metadata": {},
   "outputs": [],
   "source": [
    "rfm_test['Cluster'] = test_clusters"
   ]
  },
  {
   "cell_type": "code",
   "execution_count": null,
   "id": "2f571ad1-130c-4acc-9a56-a3963846ad59",
   "metadata": {},
   "outputs": [],
   "source": [
    "print(rfm_test.head(15))"
   ]
  },
  {
   "cell_type": "code",
   "execution_count": null,
   "id": "fc94e20c-31c4-4330-a47b-8bbaadea3e92",
   "metadata": {},
   "outputs": [],
   "source": [
    "print(rfm_train['Cluster'].value_counts())"
   ]
  },
  {
   "cell_type": "code",
   "execution_count": null,
   "id": "7f673a46-c72c-4720-8986-141f15c8cbf3",
   "metadata": {},
   "outputs": [],
   "source": [
    "print(rfm_test['Cluster'].value_counts())"
   ]
  },
  {
   "cell_type": "code",
   "execution_count": null,
   "id": "2528b12d-d383-4d19-a81d-41a4a3856421",
   "metadata": {},
   "outputs": [],
   "source": [
    "# Reduce the dimensions of the scaled training data for visualization\n",
    "pca = PCA(n_components=2)\n",
    "rfm_train_pca = pca.fit_transform(rfm_scaled_train)"
   ]
  },
  {
   "cell_type": "code",
   "execution_count": null,
   "id": "95112927-c610-44c1-b87d-7c9297bfa8a2",
   "metadata": {},
   "outputs": [],
   "source": [
    "plt.figure(figsize=(10,6))\n",
    "plt.scatter(rfm_train_pca[:, 0], rfm_train_pca[:, 1], c=train_clusters, cmap='viridis')\n",
    "plt.title('Cluster Visualization (Training Data)')\n",
    "plt.xlabel('PCA Component 1')\n",
    "plt.ylabel('PCA Component 2')\n",
    "plt.colorbar(label='Cluster')\n",
    "plt.show()"
   ]
  },
  {
   "cell_type": "code",
   "execution_count": null,
   "id": "a804c01c-931f-44b0-a088-d8f6cb9e7b06",
   "metadata": {},
   "outputs": [],
   "source": [
    "rfm_test_pca = pca.transform(rfm_scaled_test)"
   ]
  },
  {
   "cell_type": "code",
   "execution_count": null,
   "id": "5a5d6c2c-959a-4ec6-88c7-63b5995b2c3c",
   "metadata": {},
   "outputs": [],
   "source": [
    "plt.figure(figsize=(10,6))\n",
    "plt.scatter(rfm_test_pca[:, 0], rfm_test_pca[:, 1], c=test_clusters, cmap='viridis')\n",
    "plt.title('Cluster Visualization (Test Data)')\n",
    "plt.xlabel('PCA Component 1')\n",
    "plt.ylabel('PCA Component 2')\n",
    "plt.colorbar(label='Cluster')\n",
    "plt.show()"
   ]
  },
  {
   "cell_type": "code",
   "execution_count": null,
   "id": "3578ebf0-f1a0-4801-bf89-8d357862c860",
   "metadata": {},
   "outputs": [],
   "source": [
    "# Analyze the characteristics of each cluster in training data\n",
    "cluster_analysis_train = rfm_train.groupby('Cluster').mean().drop(columns=['Customer ID'])\n",
    "print(cluster_analysis_train)"
   ]
  },
  {
   "cell_type": "code",
   "execution_count": null,
   "id": "34fa364f-a54c-4e46-abba-1afdbaf279d1",
   "metadata": {},
   "outputs": [],
   "source": [
    "# Analyze the characteristics of each cluster in the test data without 'Customer ID'\n",
    "cluster_analysis_test = rfm_test.groupby('Cluster').mean().drop(columns=['Customer ID'])\n",
    "print(cluster_analysis_test)\n"
   ]
  },
  {
   "cell_type": "code",
   "execution_count": null,
   "id": "176f978b-a901-4c95-8ec9-21b9280681ad",
   "metadata": {},
   "outputs": [],
   "source": [
    "# Calculate silhouette score for the training data\n",
    "silhouette_train = silhouette_score(rfm_scaled_train, train_clusters)\n",
    "print(f'Silhouette Score for Training Data: {silhouette_train}')"
   ]
  },
  {
   "cell_type": "code",
   "execution_count": null,
   "id": "c653b0ff-6ae7-4738-9b3f-bf1644c52e3a",
   "metadata": {},
   "outputs": [],
   "source": [
    "# Calculate silhouette score for the test data\n",
    "silhouette_test = silhouette_score(rfm_scaled_test, test_clusters)\n",
    "print(f'Silhouette Score for Test Data: {silhouette_test}')"
   ]
  },
  {
   "cell_type": "code",
   "execution_count": null,
   "id": "9368bb25-22ea-4630-97d4-42d080a7c339",
   "metadata": {},
   "outputs": [],
   "source": [
    "for k in range(2, 11):\n",
    "    kmeans = KMeans(n_clusters=k, random_state=42,n_init=10)\n",
    "    kmeans.fit(rfm_scaled_train)\n",
    "    score = silhouette_score(rfm_scaled_train, kmeans.labels_)\n",
    "    print(f'For n_clusters = {k}, the silhouette score is {score}')"
   ]
  },
  {
   "cell_type": "code",
   "execution_count": null,
   "id": "2f2703c4-075c-4353-bcc3-9e4a74136230",
   "metadata": {},
   "outputs": [],
   "source": [
    "for k in range(2, 11):\n",
    "    kmeans = KMeans(n_clusters=k, random_state=42,n_init=10)\n",
    "    kmeans.fit(rfm_scaled_test)\n",
    "    score = silhouette_score(rfm_scaled_test, kmeans.labels_)\n",
    "    print(f'For n_clusters = {k}, the silhouette score is {score}')"
   ]
  },
  {
   "cell_type": "markdown",
   "id": "79be3d1b-eaeb-435f-8151-7a8eaf60ef97",
   "metadata": {},
   "source": [
    "### **KNN**"
   ]
  },
  {
   "cell_type": "code",
   "execution_count": null,
   "id": "5d73c06d-48db-4954-95c5-32b4f6380a49",
   "metadata": {},
   "outputs": [],
   "source": [
    "# Define churn label based on Recency (example: if Recency > 180 days, mark as churn)\n",
    "rfm_train['Churn'] = rfm_train['Recency'].apply(lambda x: 1 if x > 180 else 0)"
   ]
  },
  {
   "cell_type": "code",
   "execution_count": null,
   "id": "2f738d7f-b98f-487f-8158-b44274ce8f23",
   "metadata": {},
   "outputs": [],
   "source": [
    "# Check the churn distribution\n",
    "print(rfm_train['Churn'].value_counts())"
   ]
  },
  {
   "cell_type": "code",
   "execution_count": null,
   "id": "60f7fd1c-d03f-4021-a50b-e7017d559bcb",
   "metadata": {},
   "outputs": [],
   "source": [
    "# Define churn label based on Recency (example: if Recency > 180 days, mark as churn)\n",
    "rfm_test['Churn'] = rfm_test['Recency'].apply(lambda x: 1 if x > 180 else 0)"
   ]
  },
  {
   "cell_type": "code",
   "execution_count": null,
   "id": "c054a37d-28bc-4e5c-a35a-3c1bfee0b137",
   "metadata": {},
   "outputs": [],
   "source": [
    "# Check the churn distribution\n",
    "print(rfm_test['Churn'].value_counts())"
   ]
  },
  {
   "cell_type": "code",
   "execution_count": null,
   "id": "94534528-b3d4-49fa-88f1-045c9b3fe538",
   "metadata": {},
   "outputs": [],
   "source": [
    "print(rfm_train.columns)"
   ]
  },
  {
   "cell_type": "code",
   "execution_count": null,
   "id": "ae380f9d-1cf1-4e50-8396-e822e671dc83",
   "metadata": {},
   "outputs": [],
   "source": [
    "print(rfm_test.columns)"
   ]
  },
  {
   "cell_type": "code",
   "execution_count": null,
   "id": "74d7f070-6fd9-45e2-a5b7-2c5dcae919b9",
   "metadata": {},
   "outputs": [],
   "source": [
    "X_train = rfm_train[['Recency', 'Frequency', 'Monetary']]\n",
    "y_train = rfm_train['Churn']"
   ]
  },
  {
   "cell_type": "code",
   "execution_count": null,
   "id": "4790736f-77ea-4e10-9070-5f7210d76ebe",
   "metadata": {},
   "outputs": [],
   "source": [
    "scaler = StandardScaler()\n",
    "X_train_scaled = scaler.fit_transform(X_train)\n",
    "X_test_scaled = scaler.transform(X_test)"
   ]
  },
  {
   "cell_type": "code",
   "execution_count": null,
   "id": "7be7d865-6f1d-4fef-954a-b8e01e960ae9",
   "metadata": {},
   "outputs": [],
   "source": [
    "knn = KNeighborsClassifier(n_neighbors=5)\n",
    "knn.fit(X_train_scaled, y_train)"
   ]
  },
  {
   "cell_type": "code",
   "execution_count": null,
   "id": "1c81ab64-f770-40d5-957e-e397629f75f2",
   "metadata": {},
   "outputs": [],
   "source": [
    "X_test = rfm_test[['Recency', 'Frequency', 'Monetary']]\n",
    "y_test = rfm_test['Churn']"
   ]
  },
  {
   "cell_type": "code",
   "execution_count": null,
   "id": "35070a01-01dc-48b2-b4f0-b36b8cd8113a",
   "metadata": {},
   "outputs": [],
   "source": [
    "rfm_test['Churn_Predicted'] = knn.predict(X_test_scaled)"
   ]
  },
  {
   "cell_type": "code",
   "execution_count": null,
   "id": "dceb181e-91e3-443a-9b85-ed6ca827b1ae",
   "metadata": {},
   "outputs": [],
   "source": [
    "accuracy = accuracy_score(y_test, rfm_test['Churn_Predicted'])\n",
    "print(f\"Accuracy: {accuracy}\")"
   ]
  },
  {
   "cell_type": "code",
   "execution_count": null,
   "id": "8499a73f-36f5-4a4d-b0ef-7ece79e678af",
   "metadata": {},
   "outputs": [],
   "source": [
    "print(\"Classification Report:\")\n",
    "print(classification_report(y_test, rfm_test['Churn_Predicted']))"
   ]
  },
  {
   "cell_type": "markdown",
   "id": "84426cf5-06bf-4e16-aaf5-84b0a5b21e29",
   "metadata": {},
   "source": [
    "## **Conclusion**"
   ]
  },
  {
   "cell_type": "code",
   "execution_count": null,
   "id": "4a8b7bbb-7e7a-4fe4-8ae2-56a066ca3f1f",
   "metadata": {},
   "outputs": [],
   "source": [
    "plt.figure(figsize=(10, 6))\n",
    "\n",
    "# Scatter plot of Frequency vs Monetary with cluster color coding\n",
    "sns.scatterplot(x=rfm_train['Frequency'], y=rfm_train['Monetary'], hue=rfm_train['Cluster'], palette=\"deep\", s=100)\n",
    "\n",
    "plt.title('Customer Segmentation based on K-Means Clusters')\n",
    "plt.xlabel('Frequency')\n",
    "plt.ylabel('Monetary Value')\n",
    "plt.legend(title='Cluster')\n",
    "plt.show()"
   ]
  },
  {
   "cell_type": "code",
   "execution_count": null,
   "id": "5383f2dd-a248-4197-b038-d5355a83cd70",
   "metadata": {},
   "outputs": [],
   "source": [
    "cm = confusion_matrix(y_test, rfm_test['Churn_Predicted'])\n",
    "\n",
    "plt.figure(figsize=(6, 4))\n",
    "sns.heatmap(cm, annot=True, fmt='d', cmap='Blues', xticklabels=['No Churn', 'Churn'], yticklabels=['No Churn', 'Churn'])\n",
    "\n",
    "plt.title('Confusion Matrix for KNN Churn Prediction')\n",
    "plt.xlabel('Predicted')\n",
    "plt.ylabel('Actual')\n",
    "plt.show()"
   ]
  }
 ],
 "metadata": {
  "kernelspec": {
   "display_name": "Python 3 (ipykernel)",
   "language": "python",
   "name": "python3"
  },
  "language_info": {
   "codemirror_mode": {
    "name": "ipython",
    "version": 3
   },
   "file_extension": ".py",
   "mimetype": "text/x-python",
   "name": "python",
   "nbconvert_exporter": "python",
   "pygments_lexer": "ipython3",
   "version": "3.11.5"
  }
 },
 "nbformat": 4,
 "nbformat_minor": 5
}
